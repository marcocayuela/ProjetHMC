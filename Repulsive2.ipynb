{
 "cells": [
  {
   "cell_type": "code",
   "execution_count": 1,
   "metadata": {},
   "outputs": [],
   "source": [
    "import numpy as np\n",
    "import matplotlib.pyplot as plt\n",
    "from scipy.stats import multivariate_normal\n",
    "from scipy.stats import norm"
   ]
  },
  {
   "cell_type": "code",
   "execution_count": 4,
   "metadata": {},
   "outputs": [],
   "source": [
    "def simulRepulsive(mu, M, N, eps, T):\n",
    "    \n",
    "    def V(theta):\n",
    "        return(-sum(theta**2)/2-sum([1/sum((theta-mu_j)**2) for mu_j in mu]))\n",
    "        \n",
    "    def deltaV(theta): # gradient de V\n",
    "        deltalogV = - theta + 2*sum([(theta-mu_j)/(sum((theta-mu_j)**2)**2) for mu_j in mu])\n",
    "        return(deltalogV)\n",
    "    \n",
    "    chain = [] \n",
    "    q = np.zeros(2) # point de départ \n",
    "    chain.append(q)\n",
    "    acc = 0 # calculer le taux d'acceptation de Metropolis Hastings\n",
    "    \n",
    "    for n in range(1,N): # nombre de point de la chaine\n",
    "        \n",
    "        p = np.random.multivariate_normal(np.zeros(2),M) # p (le moment) suit une loi N(0,M)\n",
    "        q = chain[n-1]\n",
    "        pstar = p\n",
    "        qstar = q\n",
    "        \n",
    "        for t in range(T): # leapfrog integrator\n",
    "            ptemp = pstar - eps/2*deltaV(qstar)\n",
    "            qstar = qstar + eps*ptemp\n",
    "            pstar = ptemp - eps/2*deltaV(qstar)\n",
    "        \n",
    "        H = - multivariate_normal(np.zeros(2), M).logpdf(p) - V(q) # calcul de H(p,q)\n",
    "            \n",
    "        Hstar = - multivariate_normal(np.zeros(2), M).logpdf(pstar) - V(qstar) # calcul de H(p*,q*)\n",
    "            \n",
    "        r = min(1,np.exp(H-Hstar)) \n",
    "        \n",
    "        if (np.random.uniform(0,1)<r):\n",
    "            chain.append(qstar)\n",
    "            acc+=1\n",
    "        else:\n",
    "            chain.append(q)\n",
    "        \n",
    "    return {\"chain\" : np.array(chain), 'acc' : acc/N}"
   ]
  },
  {
   "cell_type": "code",
   "execution_count": null,
   "metadata": {},
   "outputs": [],
   "source": [
    "mu = np.random.multivariate_normal(np.zeros(2), np.eye(2), 7)\n",
    "M = np.eye(2)\n",
    "N = 100000\n",
    "eps = 0.01\n",
    "T = 15\n",
    "\n",
    "\n",
    "out = simulRepulsive(mu, M, N, eps, T)\n",
    "chain = out['chain']\n",
    "acc = out['acc']"
   ]
  },
  {
   "cell_type": "code",
   "execution_count": null,
   "metadata": {},
   "outputs": [],
   "source": [
    "plt.scatter(chain[:,0], chain[:,1], s=4)\n",
    "plt.scatter(mu[:,0], mu[:,1],s=10)\n",
    "acc"
   ]
  },
  {
   "cell_type": "code",
   "execution_count": null,
   "metadata": {},
   "outputs": [],
   "source": [
    "from scipy.stats import gaussian_kde\n",
    "\n",
    "x = chain[:,0]\n",
    "y = chain[:,1]\n",
    "\n",
    "# Calculate the point density\n",
    "xy = np.vstack([x,y])\n",
    "z = gaussian_kde(xy)(xy)"
   ]
  },
  {
   "cell_type": "code",
   "execution_count": null,
   "metadata": {},
   "outputs": [],
   "source": [
    "fig, ax = plt.subplots()\n",
    "density = ax.scatter(x, y, c=z, s=10)\n",
    "ax.scatter(mu[:,0], mu[:,1], c='red', label='Points répulsifs')\n",
    "fig.colorbar(density)\n",
    "plt.title('Densité d\\'une loi à points répulsifs')\n",
    "plt.legend()\n",
    "plt.show();"
   ]
  }
 ],
 "metadata": {
  "kernelspec": {
   "display_name": "Python 3",
   "language": "python",
   "name": "python3"
  },
  "language_info": {
   "codemirror_mode": {
    "name": "ipython",
    "version": 3
   },
   "file_extension": ".py",
   "mimetype": "text/x-python",
   "name": "python",
   "nbconvert_exporter": "python",
   "pygments_lexer": "ipython3",
   "version": "3.8.3"
  }
 },
 "nbformat": 4,
 "nbformat_minor": 4
}
